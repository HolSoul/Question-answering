{
  "cells": [
    {
      "cell_type": "code",
      "execution_count": 7,
      "metadata": {},
      "outputs": [],
      "source": [
        "\"\"\"\n",
        "Модуль для загрузки и предобработки данных\n",
        "\"\"\"\n",
        "import pandas as pd\n",
        "from typing import List, Tuple\n",
        "import pdfplumber\n",
        "import os\n",
        "\n",
        "try:\n",
        "    import docx\n",
        "except ImportError:\n",
        "    docx = None\n",
        "\n",
        "def load_raw_texts(path: str) -> List[str]:\n",
        "    \"\"\"Загрузка исходных текстов из файла/папки\"\"\"\n",
        "    # TODO: реализовать\n",
        "    pass\n",
        "\n",
        "def prepare_qa_dataset(texts: List[str]) -> pd.DataFrame:\n",
        "    \"\"\"Генерация датасета вопрос-ответ для extractive QA\"\"\"\n",
        "    # TODO: реализовать\n",
        "    pass\n",
        "\n",
        "def extract_text_from_pdf(pdf_path: str) -> str:\n",
        "    \"\"\"Извлечение текста из PDF-файла\"\"\"\n",
        "    text = \"\"\n",
        "    with pdfplumber.open(pdf_path) as pdf:\n",
        "        for page in pdf.pages:\n",
        "            page_text = page.extract_text()\n",
        "            if page_text:\n",
        "                text += page_text + \"\\n\"\n",
        "    return text\n",
        "\n",
        "def extract_text_from_docx(docx_path: str) -> str:\n",
        "    \"\"\"Извлечение текста из DOCX-файла\"\"\"\n",
        "    if docx is None:\n",
        "        raise ImportError(\"Для работы с DOCX установите пакет python-docx\")\n",
        "    doc = docx.Document(docx_path)\n",
        "    return \"\\n\".join([p.text for p in doc.paragraphs if p.text.strip()])\n",
        "\n",
        "def extract_text_from_txt(txt_path: str) -> str:\n",
        "    \"\"\"Извлечение текста из TXT-файла\"\"\"\n",
        "    with open(txt_path, encoding=\"utf-8\") as f:\n",
        "        return f.read()\n",
        "\n",
        "def extract_text_from_file(file_path: str) -> str:\n",
        "    \"\"\"Универсальная функция для извлечения текста из PDF, DOCX, TXT\"\"\"\n",
        "    ext = os.path.splitext(file_path)[-1].lower()\n",
        "    if ext == \".pdf\":\n",
        "        return extract_text_from_pdf(file_path)\n",
        "    elif ext == \".docx\":\n",
        "        return extract_text_from_docx(file_path)\n",
        "    elif ext == \".txt\":\n",
        "        return extract_text_from_txt(file_path)\n",
        "    else:\n",
        "        raise ValueError(f\"Неподдерживаемый формат файла: {ext}\")\n"
      ]
    },
    {
      "cell_type": "code",
      "execution_count": 6,
      "metadata": {},
      "outputs": [
        {
          "name": "stderr",
          "output_type": "stream",
          "text": [
            "<>:2: SyntaxWarning: invalid escape sequence '\\P'\n",
            "<>:2: SyntaxWarning: invalid escape sequence '\\P'\n",
            "C:\\Users\\Евгений\\AppData\\Local\\Temp\\ipykernel_12580\\1109783911.py:2: SyntaxWarning: invalid escape sequence '\\P'\n",
            "  text = extract_text_from_pdf('C:\\PythonProjects\\Question answering\\Чтение файлов.pdf')\n",
            "CropBox missing from /Page, defaulting to MediaBox\n",
            "CropBox missing from /Page, defaulting to MediaBox\n",
            "CropBox missing from /Page, defaulting to MediaBox\n",
            "CropBox missing from /Page, defaulting to MediaBox\n",
            "CropBox missing from /Page, defaulting to MediaBox\n",
            "CropBox missing from /Page, defaulting to MediaBox\n",
            "CropBox missing from /Page, defaulting to MediaBox\n",
            "CropBox missing from /Page, defaulting to MediaBox\n",
            "CropBox missing from /Page, defaulting to MediaBox\n",
            "CropBox missing from /Page, defaulting to MediaBox\n",
            "CropBox missing from /Page, defaulting to MediaBox\n",
            "CropBox missing from /Page, defaulting to MediaBox\n",
            "CropBox missing from /Page, defaulting to MediaBox\n",
            "CropBox missing from /Page, defaulting to MediaBox\n"
          ]
        },
        {
          "name": "stdout",
          "output_type": "stream",
          "text": [
            "Чтение и обработка текстовых файлов (.txt) в\n",
            "Python\n",
            "Данный документ посвящён ключевой теме для подготовки к ЕГЭ — работе с текстовыми файлами в Python. Мы\n",
            "рассмотрим основы открытия и чтения файлов, методы подсчёта строк, слов и символов, а также примеры поиска\n",
            "максимальных значений и анализа данных в текстовом формате. В конце представлены практические задания с\n",
            "решениями для закрепления материала.\n",
            "by Евгений Михеев\n",
            "Основы открытия и чтения текстовых файлов\n",
            "Для работы с текстовыми файлами в Python используется конструкция with open, которая автоматически открывает и\n",
            "закрывает файл, что является хорошей практикой. Например, чтобы прочитать все строки файла, используется код:\n",
            "with open('data.txt', 'r', encoding='utf-8') as f:\n",
            "lines = f.readlines()\n",
            "Также можно читать файл построчно в цикле, что удобно для обработки больших файлов без загрузки всего содержимого в\n",
            "память:\n",
            "with open('data.txt', 'r', encoding='utf-8') as f:\n",
            "for line in f:\n",
            "print(line.strip()) # убирает символы переноса строки\n"
          ]
        }
      ],
      "source": [
        "# Пример использования:\n",
        "text = extract_text_from_pdf('C:\\PythonProjects\\Question answering\\Чтение файлов.pdf')\n",
        "print(text[:1000])  # Вывести первые 1000 символов"
      ]
    }
  ],
  "metadata": {
    "kernelspec": {
      "display_name": ".venv",
      "language": "python",
      "name": "python3"
    },
    "language_info": {
      "codemirror_mode": {
        "name": "ipython",
        "version": 3
      },
      "file_extension": ".py",
      "mimetype": "text/x-python",
      "name": "python",
      "nbconvert_exporter": "python",
      "pygments_lexer": "ipython3",
      "version": "3.13.3"
    }
  },
  "nbformat": 4,
  "nbformat_minor": 2
}
